{
 "metadata": {
  "language_info": {
   "codemirror_mode": {
    "name": "ipython",
    "version": 3
   },
   "file_extension": ".py",
   "mimetype": "text/x-python",
   "name": "python",
   "nbconvert_exporter": "python",
   "pygments_lexer": "ipython3",
   "version": "3.8.10"
  },
  "orig_nbformat": 2,
  "kernelspec": {
   "name": "python3",
   "display_name": "Python 3.8.10 64-bit ('acse1.1': conda)"
  },
  "interpreter": {
   "hash": "09160679218cef01ff15815045f22f73847c787608cecc83e75aba7b6298eccd"
  }
 },
 "nbformat": 4,
 "nbformat_minor": 2,
 "cells": [
  {
   "cell_type": "code",
   "execution_count": 1,
   "metadata": {},
   "outputs": [],
   "source": [
    "import pybryt\n",
    "\n",
    "def reference(n):\n",
    "    basename = f'references/reference-{n}'\n",
    "    pyfile = f'{basename}.py'\n",
    "    pklfile = f'{basename}.pkl'\n",
    "    pybryt.ReferenceImplementation.compile(pyfile).dump(pklfile)\n",
    "\n",
    "    return pklfile"
   ]
  },
  {
   "source": [
    "# Assignment 1: Rectangle area\n",
    "\n",
    "Write a function `area(a, b)` which computes and returns the area of a triangle with sides `a` and `b`.\n",
    "\n",
    "## Good solution"
   ],
   "cell_type": "markdown",
   "metadata": {}
  },
  {
   "cell_type": "code",
   "execution_count": 2,
   "metadata": {},
   "outputs": [],
   "source": [
    "def rectangle_area(a, b):\n",
    "    return a * b"
   ]
  },
  {
   "cell_type": "code",
   "execution_count": 3,
   "metadata": {},
   "outputs": [
    {
     "output_type": "stream",
     "name": "stdout",
     "text": [
      "REFERENCE: reference-1\nSATISFIED: True\nMESSAGES:\n  - SUCCESS: Great! You learned how to compute the area of a triangle.\n"
     ]
    }
   ],
   "source": [
    "with pybryt.check(reference(1)):\n",
    "    rectangle_area(5, 3)"
   ]
  },
  {
   "source": [
    "## Extreme case of a wrong solution\n",
    "\n",
    "In this solution, the `for` loop \"replaces\" many possible lines of code students can write defining different values in the memory footprint."
   ],
   "cell_type": "markdown",
   "metadata": {}
  },
  {
   "cell_type": "code",
   "execution_count": 4,
   "metadata": {},
   "outputs": [],
   "source": [
    "def area(a, b):\n",
    "    for i in range(100):\n",
    "        pass\n",
    "\n",
    "    return 'I am the best cheater ever.'"
   ]
  },
  {
   "cell_type": "code",
   "execution_count": 5,
   "metadata": {},
   "outputs": [
    {
     "output_type": "stream",
     "name": "stdout",
     "text": [
      "REFERENCE: reference-1\nSATISFIED: True\nMESSAGES:\n  - SUCCESS: Great! You learned how to compute the area of a triangle.\n"
     ]
    }
   ],
   "source": [
    "with pybryt.check(reference(1)):\n",
    "    area(5, 3)"
   ]
  },
  {
   "source": [
    "# Assignment 2: Find the maximum\n",
    "\n",
    "Write a function with signature `maximum(a)`, which finds and returns the largent element in a list `a`.\n",
    "\n",
    "## Good solution"
   ],
   "cell_type": "markdown",
   "metadata": {}
  },
  {
   "cell_type": "code",
   "execution_count": 6,
   "metadata": {},
   "outputs": [],
   "source": [
    "def maximum(a):\n",
    "    res = a[0]\n",
    "    for i in a:\n",
    "        if i > res:\n",
    "            res = i\n",
    "\n",
    "    return res"
   ]
  },
  {
   "cell_type": "code",
   "execution_count": 7,
   "metadata": {},
   "outputs": [
    {
     "output_type": "stream",
     "name": "stdout",
     "text": [
      "REFERENCE: reference-2\nSATISFIED: True\nMESSAGES:\n  - SUCCESS: Great! You declare the first element to be the largest before the loop.\n  - SUCCESS: Very nice! You are finding larger elements.\n  - SUCCESS: Wow! You found the largest element.\n"
     ]
    }
   ],
   "source": [
    "with pybryt.check(reference(2)):\n",
    "    maximum([-3, 1, 0, 5, 19])"
   ]
  },
  {
   "source": [
    "## Wrong solution\n",
    "\n",
    "Student finds minimum instead of maximum."
   ],
   "cell_type": "markdown",
   "metadata": {}
  },
  {
   "cell_type": "code",
   "execution_count": 8,
   "metadata": {},
   "outputs": [],
   "source": [
    "def maximum(a):\n",
    "    res = a[0]\n",
    "    for i in a:  # Simple looping over the elements in a list masks everything\n",
    "        if i < res:  # Finds minimum instead of maximum\n",
    "            res = i\n",
    "\n",
    "    return res"
   ]
  },
  {
   "cell_type": "code",
   "execution_count": 9,
   "metadata": {},
   "outputs": [
    {
     "output_type": "stream",
     "name": "stdout",
     "text": [
      "REFERENCE: reference-2\nSATISFIED: True\nMESSAGES:\n  - SUCCESS: Great! You declare the first element to be the largest before the loop.\n  - SUCCESS: Very nice! You are finding larger elements.\n  - SUCCESS: Wow! You found the largest element.\n"
     ]
    }
   ],
   "source": [
    "with pybryt.check(reference(2)):\n",
    "    maximum([-3, 1, 0, 5, 19])"
   ]
  },
  {
   "source": [
    "# Questions\n",
    "\n",
    "1. Although the first assignment is an extreme case of cheating, finding a maximum is one of the beginners' most common coding exercises. However, simple looping over the elements in a list makes invisible everything student did. I understand this is how PyBryt works, but I think this substantially limits the number of cases it can be used for. In particular, in beginner-level coding exercises, detailed feedback (PyBryt's main power) is essential. What worries me the most is that it does not take much effort and brainstorming to find a boundary case for which PyBryt would not catch a mistake and give good feedback to the student.\n",
    "\n",
    "2. Regarding numpy arrays: Let us say I want the students to compute the dot product of two vectors. Simply checking there is no numpy array in the footprint, gives me a good indication that a student did not use shortcuts (`np.dot(a, b)`). In addition, it is very common to ask students in exercises to do something \"using lists\", \"using tuples\", etc. This makes them practice solving problems by not using some of the operations they would normally use. This is why I believe it would be helpful to have the ability to ensure there is no numpy array, list, tuple... in the footprint without specifying the exact value."
   ],
   "cell_type": "markdown",
   "metadata": {}
  }
 ]
}