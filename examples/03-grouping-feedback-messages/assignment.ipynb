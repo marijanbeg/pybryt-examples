{
 "metadata": {
  "language_info": {
   "codemirror_mode": {
    "name": "ipython",
    "version": 3
   },
   "file_extension": ".py",
   "mimetype": "text/x-python",
   "name": "python",
   "nbconvert_exporter": "python",
   "pygments_lexer": "ipython3",
   "version": "3.8.10"
  },
  "orig_nbformat": 2,
  "kernelspec": {
   "name": "python3",
   "display_name": "Python 3.8.10 64-bit ('acse1.1': conda)"
  },
  "interpreter": {
   "hash": "09160679218cef01ff15815045f22f73847c787608cecc83e75aba7b6298eccd"
  }
 },
 "nbformat": 4,
 "nbformat_minor": 2,
 "cells": [
  {
   "cell_type": "code",
   "execution_count": 8,
   "metadata": {},
   "outputs": [],
   "source": [
    "import os\n",
    "import pybryt\n",
    "\n",
    "\n",
    "def reference(n):\n",
    "    basename = os.path.join(f'references', f'reference-{n}')\n",
    "    pyfile = f'{basename}.py'\n",
    "    pklfile = f'{basename}.pkl'\n",
    "    pybryt.ReferenceImplementation.compile(pyfile).dump(pklfile)\n",
    "\n",
    "    return pklfile"
   ]
  },
  {
   "source": [
    "# Assignment: Square elements in a list\n",
    "\n",
    "Write the function `square(a)`, which takes list `a` with elements $[a_0, a_1, \\ldots, a_n]$ as an input. It is expected to square all elements individually and return list $[a_0^2, a_1^2, \\ldots, a_n^2]$.\n",
    "\n",
    "## Good solution"
   ],
   "cell_type": "markdown",
   "metadata": {}
  },
  {
   "cell_type": "code",
   "execution_count": 9,
   "metadata": {},
   "outputs": [],
   "source": [
    "def square(a):\n",
    "    res = []\n",
    "    for i in a:\n",
    "        i_squared = i**2\n",
    "        res.append(i_squared)\n",
    "\n",
    "    return res"
   ]
  },
  {
   "source": [
    "## Test attempt 1 - issue"
   ],
   "cell_type": "markdown",
   "metadata": {}
  },
  {
   "cell_type": "code",
   "execution_count": 10,
   "metadata": {},
   "outputs": [
    {
     "output_type": "stream",
     "name": "stdout",
     "text": [
      "REFERENCE: reference-1\nSATISFIED: True\nMESSAGES:\n  - SUCCESS 1: Great! You start with an empty list.\n  - SUCCESS 2: Amazing! You are computing the squares of individual elements.\n  - SUCCESS 3: Wow! You are appending the squared elements.\n  - SUCCESS 2: Amazing! You are computing the squares of individual elements.\n  - SUCCESS 3: Wow! You are appending the squared elements.\n  - SUCCESS 2: Amazing! You are computing the squares of individual elements.\n  - SUCCESS 3: Wow! You are appending the squared elements.\n  - SUCCESS 2: Amazing! You are computing the squares of individual elements.\n  - SUCCESS 3: Wow! You are appending the squared elements.\n  - SUCCESS 2: Amazing! You are computing the squares of individual elements.\n  - SUCCESS 3: Wow! You are appending the squared elements.\n  - SUCCESS 2: Amazing! You are computing the squares of individual elements.\n  - SUCCESS 3: Wow! You are appending the squared elements.\n  - SUCCESS 2: Amazing! You are computing the squares of individual elements.\n  - SUCCESS 3: Wow! You are appending the squared elements.\n  - SUCCESS 4: Your final solution is correct.\n"
     ]
    }
   ],
   "source": [
    "with pybryt.check(reference(1)):\n",
    "    square([-55, 13, 57, 0, 1, 2, -44])"
   ]
  },
  {
   "source": [
    "This results in multiple messages (`SUCCESS 2` and `SUCCESS 3`)for annotations defined in a loop.\n",
    "\n",
    "## Test attempt 2 - solution\n",
    "\n",
    "In reference 2, we pass `name` to annotations, which results in messages being grouped together."
   ],
   "cell_type": "markdown",
   "metadata": {}
  },
  {
   "cell_type": "code",
   "execution_count": 11,
   "metadata": {},
   "outputs": [
    {
     "output_type": "stream",
     "name": "stdout",
     "text": [
      "REFERENCE: reference-2\nSATISFIED: True\nMESSAGES:\n  - SUCCESS 1: Great! You start with an empty list.\n  - SUCCESS 2: Amazing! You are computing the squares of individual elements.\n  - SUCCESS 3: Wow! You are appending the squared elements.\n  - SUCCESS 4: Your final solution is correct.\n"
     ]
    }
   ],
   "source": [
    "with pybryt.check(reference(2)):\n",
    "    square([-55, 13, 57, 0, 1, 2, -44])"
   ]
  },
  {
   "source": [
    "## Wrong solution\n",
    "\n",
    "Intentionally, we introduce a mistake. For negative elements in list `a`, we append $-a_i$ to the resuluting list."
   ],
   "cell_type": "markdown",
   "metadata": {}
  },
  {
   "cell_type": "code",
   "execution_count": 12,
   "metadata": {},
   "outputs": [],
   "source": [
    "def square(a):\n",
    "    res = []\n",
    "    for i in a:\n",
    "        if i < 0:\n",
    "            i_squared = -i  # mistake introduced (-i instead of i**2)\n",
    "        else:\n",
    "            i_squared = i**2\n",
    "        res.append(i_squared)\n",
    "   \n",
    "    return res"
   ]
  },
  {
   "source": [
    "## Test attempt 1 - reference 1 with no grouping"
   ],
   "cell_type": "markdown",
   "metadata": {}
  },
  {
   "cell_type": "code",
   "execution_count": 13,
   "metadata": {},
   "outputs": [
    {
     "output_type": "stream",
     "name": "stdout",
     "text": [
      "REFERENCE: reference-1\nSATISFIED: False\nMESSAGES:\n  - SUCCESS 1: Great! You start with an empty list.\n  - SUCCESS 2: Amazing! You are computing the squares of individual elements.\n  - ERROR 3: Oops... Please check if you are appending the individual elements?\n  - SUCCESS 2: Amazing! You are computing the squares of individual elements.\n  - ERROR 3: Oops... Please check if you are appending the individual elements?\n  - SUCCESS 2: Amazing! You are computing the squares of individual elements.\n  - ERROR 3: Oops... Please check if you are appending the individual elements?\n  - SUCCESS 2: Amazing! You are computing the squares of individual elements.\n  - ERROR 3: Oops... Please check if you are appending the individual elements?\n  - SUCCESS 2: Amazing! You are computing the squares of individual elements.\n  - ERROR 3: Oops... Please check if you are appending the individual elements?\n  - SUCCESS 2: Amazing! You are computing the squares of individual elements.\n  - ERROR 3: Oops... Please check if you are appending the individual elements?\n  - SUCCESS 2: Amazing! You are computing the squares of individual elements.\n  - ERROR 3: Oops... Please check if you are appending the individual elements?\n  - ERROR 4: The final solution is wrong.\n"
     ]
    }
   ],
   "source": [
    "with pybryt.check(reference(1)):\n",
    "    square([-55, 13, 57, 0, 1, 2, -44])"
   ]
  },
  {
   "source": [
    "## Test attempt 2 - reference 2 with grouping"
   ],
   "cell_type": "markdown",
   "metadata": {}
  },
  {
   "cell_type": "code",
   "execution_count": 14,
   "metadata": {},
   "outputs": [
    {
     "output_type": "stream",
     "name": "stdout",
     "text": [
      "REFERENCE: reference-2\nSATISFIED: False\nMESSAGES:\n  - SUCCESS 1: Great! You start with an empty list.\n  - SUCCESS 2: Amazing! You are computing the squares of individual elements.\n  - ERROR 3: Oops... Please check if you are appending the individual elements?\n  - ERROR 4: The final solution is wrong.\n"
     ]
    }
   ],
   "source": [
    "with pybryt.check(reference(2)):\n",
    "    square([-55, 13, 57, 0, 1, 2, -44])"
   ]
  },
  {
   "source": [
    "# Questions\n",
    "\n",
    "1. Why does the student receive `SUCCESS 2` feedback message? By looking at the wrong solution, I do not expect $55^2$ to be in memory."
   ],
   "cell_type": "markdown",
   "metadata": {}
  }
 ]
}