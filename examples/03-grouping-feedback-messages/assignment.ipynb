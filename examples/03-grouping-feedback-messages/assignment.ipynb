{
 "metadata": {
  "language_info": {
   "codemirror_mode": {
    "name": "ipython",
    "version": 3
   },
   "file_extension": ".py",
   "mimetype": "text/x-python",
   "name": "python",
   "nbconvert_exporter": "python",
   "pygments_lexer": "ipython3",
   "version": "3.8.10"
  },
  "orig_nbformat": 2,
  "kernelspec": {
   "name": "python3",
   "display_name": "Python 3.8.10 64-bit ('acse1.1': conda)"
  },
  "interpreter": {
   "hash": "09160679218cef01ff15815045f22f73847c787608cecc83e75aba7b6298eccd"
  }
 },
 "nbformat": 4,
 "nbformat_minor": 2,
 "cells": [
  {
   "cell_type": "code",
   "execution_count": 1,
   "metadata": {},
   "outputs": [],
   "source": [
    "import os\n",
    "import pybryt\n",
    "\n",
    "\n",
    "def reference(n):\n",
    "    basename = os.path.join(f'references', f'reference-{n}')\n",
    "    pyfile = f'{basename}.py'\n",
    "    pklfile = f'{basename}.pkl'\n",
    "    pybryt.ReferenceImplementation.compile(pyfile).dump(pklfile)\n",
    "\n",
    "    return pklfile"
   ]
  },
  {
   "source": [
    "# Assignment: Square list elements\n",
    "\n",
    "Write function `square(a)`, which takes list `a` with elements $[a_0, a_1, \\ldots, a_n]$ as an input. It squares all elements individually, and returns list $[a_0^2, a_1^2, \\ldots, a_n^2]$.\n",
    "\n",
    "## Good solution"
   ],
   "cell_type": "markdown",
   "metadata": {}
  },
  {
   "cell_type": "code",
   "execution_count": 2,
   "metadata": {},
   "outputs": [],
   "source": [
    "def square(a):\n",
    "    res = []\n",
    "    for i in a:\n",
    "        res.append(i**2)\n",
    "\n",
    "    return res"
   ]
  },
  {
   "source": [
    "## Test attempt 1 - issue"
   ],
   "cell_type": "markdown",
   "metadata": {}
  },
  {
   "cell_type": "code",
   "execution_count": 6,
   "metadata": {},
   "outputs": [
    {
     "output_type": "stream",
     "name": "stdout",
     "text": [
      "REFERENCE: reference-1\nSATISFIED: True\nMESSAGES:\n  - SUCCESS: Great! You start with an empty list.\n  - SUCCESS: Amazing! You are computing the squares of individual elements.\n  - SUCCESS: Wow! You are appending the squared elements.\n  - SUCCESS: Amazing! You are computing the squares of individual elements.\n  - SUCCESS: Wow! You are appending the squared elements.\n  - SUCCESS: Amazing! You are computing the squares of individual elements.\n  - SUCCESS: Wow! You are appending the squared elements.\n  - SUCCESS: Amazing! You are computing the squares of individual elements.\n  - SUCCESS: Wow! You are appending the squared elements.\n  - SUCCESS: Amazing! You are computing the squares of individual elements.\n  - SUCCESS: Wow! You are appending the squared elements.\n  - SUCCESS: Amazing! You are computing the squares of individual elements.\n  - SUCCESS: Wow! You are appending the squared elements.\n  - SUCCESS: Amazing! You are computing the squares of individual elements.\n  - SUCCESS: Wow! You are appending the squared elements.\n"
     ]
    }
   ],
   "source": [
    "with pybryt.check(reference(1)):\n",
    "    square([-55, 13, 57, 0, 1, 2, -44])"
   ]
  },
  {
   "source": [
    "This results in multiple messages for annotations defined in a loop.\n",
    "\n",
    "## Solution\n",
    "\n",
    "The solution is in reference 2, where `name` is passed to annotations. This results in messages being grouped."
   ],
   "cell_type": "markdown",
   "metadata": {}
  },
  {
   "cell_type": "code",
   "execution_count": 8,
   "metadata": {},
   "outputs": [
    {
     "output_type": "stream",
     "name": "stdout",
     "text": [
      "REFERENCE: reference-2\nSATISFIED: True\nMESSAGES:\n  - SUCCESS: Great! You start with an empty list.\n  - SUCCESS: Amazing! You are computing the squares of individual elements.\n  - SUCCESS: Wow! You are appending the squared elements.\n  - SUCCESS: Your final solution is correct.\n"
     ]
    }
   ],
   "source": [
    "with pybryt.check(reference(2)):\n",
    "    square([-55, 13, 57, 0, 1, 2, -44])"
   ]
  }
 ]
}