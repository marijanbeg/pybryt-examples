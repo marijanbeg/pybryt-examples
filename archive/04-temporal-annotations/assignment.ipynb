{
 "metadata": {
  "language_info": {
   "codemirror_mode": {
    "name": "ipython",
    "version": 3
   },
   "file_extension": ".py",
   "mimetype": "text/x-python",
   "name": "python",
   "nbconvert_exporter": "python",
   "pygments_lexer": "ipython3",
   "version": "3.8.10"
  },
  "orig_nbformat": 2,
  "kernelspec": {
   "name": "python3",
   "display_name": "Python 3.8.10 64-bit ('acse1.1': conda)"
  },
  "interpreter": {
   "hash": "09160679218cef01ff15815045f22f73847c787608cecc83e75aba7b6298eccd"
  }
 },
 "nbformat": 4,
 "nbformat_minor": 2,
 "cells": [
  {
   "cell_type": "code",
   "execution_count": 1,
   "metadata": {},
   "outputs": [],
   "source": [
    "import os\n",
    "import pybryt\n",
    "\n",
    "\n",
    "def reference(n):\n",
    "    basename = os.path.join(f'references', f'reference-{n}')\n",
    "    pyfile = f'{basename}.py'\n",
    "    pklfile = f'{basename}.pkl'\n",
    "    pybryt.ReferenceImplementation.compile(pyfile).dump(pklfile)\n",
    "\n",
    "    return pklfile"
   ]
  },
  {
   "source": [
    "# Assignment: Lucas series\n",
    "\n",
    "Implement function `lucas(n)` which takes a positive integer `n` representing the number of elements in the Lucas series. The function should return a numpy array containing the first `n` elements of the Lucas series. You can find the definition of Lucas series [here](https://en.wikipedia.org/wiki/Lucas_number).\n",
    "\n",
    "## Good solution"
   ],
   "cell_type": "markdown",
   "metadata": {}
  },
  {
   "cell_type": "code",
   "execution_count": 2,
   "metadata": {},
   "outputs": [],
   "source": [
    "import numpy as np\n",
    "\n",
    "\n",
    "def lucas(n):\n",
    "    lucas_series = np.zeros(n, dtype=int)\n",
    "\n",
    "    lucas_series[0] = 2\n",
    "    if n == 1:\n",
    "        return lucas_series\n",
    "\n",
    "    lucas_series[1] = 1\n",
    "    if n == 2:\n",
    "        return lucas_series\n",
    "\n",
    "    for i in range(2, n):\n",
    "        lucas_series[i] = lucas_series[i-1] + lucas_series[i-2]\n",
    "\n",
    "    return lucas_series"
   ]
  },
  {
   "source": [
    "## Test"
   ],
   "cell_type": "markdown",
   "metadata": {}
  },
  {
   "cell_type": "code",
   "execution_count": 3,
   "metadata": {},
   "outputs": [
    {
     "output_type": "stream",
     "name": "stdout",
     "text": [
      "REFERENCE: reference-1\nSATISFIED: True\nMESSAGES:\n  - SUCCESS 1: Your first element is correct.\n  - SUCCESS 2: Your second element is correct.\n  - SUCCESS 3: You are generating n>2 elements right.\n  - SUCCESS 4: Amazing! Your final solution is correct.\n"
     ]
    }
   ],
   "source": [
    "with pybryt.check(reference(1)):\n",
    "    lucas(20)"
   ]
  },
  {
   "source": [
    "# Questions\n",
    "\n",
    "1. The messages student receives in the feedback come from `pybryt.Value` annotations. Is there a way to define `success_message` and `failure_message` for temporal annotations?\n",
    "\n",
    "2. We find the current interface for defining temporal annotations a bit too complicated and error-prone. Have you considered the solution where a user can define a \"container\" to which individual value annotations are added? The order of annotations in the container would define \"before\" and \"after\" relationships. This could also simplify the way of defining `success_message` and `failure_message` for temporal annotations."
   ],
   "cell_type": "markdown",
   "metadata": {}
  }
 ]
}